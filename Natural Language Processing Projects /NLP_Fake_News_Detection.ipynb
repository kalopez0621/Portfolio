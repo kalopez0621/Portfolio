{
  "nbformat": 4,
  "nbformat_minor": 0,
  "metadata": {
    "colab": {
      "provenance": [],
      "authorship_tag": "ABX9TyPCCRDRg7N/I66wqwWKwsCX",
      "include_colab_link": true
    },
    "kernelspec": {
      "name": "python3",
      "display_name": "Python 3"
    },
    "language_info": {
      "name": "python"
    }
  },
  "cells": [
    {
      "cell_type": "markdown",
      "metadata": {
        "id": "view-in-github",
        "colab_type": "text"
      },
      "source": [
        "<a href=\"https://colab.research.google.com/github/kalopez0621/Portfolio/blob/main/Natural%20Language%20Processing%20Projects%20/NLP_Fake_News_Detection.ipynb\" target=\"_parent\"><img src=\"https://colab.research.google.com/assets/colab-badge.svg\" alt=\"Open In Colab\"/></a>"
      ]
    },
    {
      "cell_type": "code",
      "source": [
        "#Importing necessary libraries\n",
        "import pandas as pd # data manipulation\n",
        "import numpy as np\n",
        "import re\n",
        "import matplotlib.pyplot as plt\n",
        "import seaborn as sns\n",
        "from sklearn.feature_extraction.text import TfidfVectorizer\n",
        "from sklearn.model_selection import train_test_split\n",
        "from sklearn.linear_model import LogisticRegression\n",
        "from sklearn.metrics import classification_report, confusion_matrix, accuracy_score, f1_score\n",
        "from sklearn.svm import SVC\n",
        "from xgboost import XGBClassifier\n",
        "from sklearn.metrics import roc_curve, auc\n",
        "from sklearn.model_selection import cross_val_score, StratifiedKFold\n"
      ],
      "metadata": {
        "id": "5U5YIhgNfedt"
      },
      "execution_count": null,
      "outputs": []
    },
    {
      "cell_type": "markdown",
      "source": [
        "# Data Loading\n",
        " Load the datasets for fake and real news articles that were downloaded from Google Drive but dataset is from Kaggle"
      ],
      "metadata": {
        "id": "HOOqr3r8BiNm"
      }
    },
    {
      "cell_type": "code",
      "execution_count": null,
      "metadata": {
        "colab": {
          "base_uri": "https://localhost:8080/"
        },
        "id": "Lg3soCWY2pn8",
        "outputId": "4bc8ff2e-0032-4109-df69-084089972489"
      },
      "outputs": [
        {
          "output_type": "stream",
          "name": "stdout",
          "text": [
            "Fake News Dataset:\n",
            "                                               title  \\\n",
            "0   Donald Trump Sends Out Embarrassing New Year’...   \n",
            "1   Drunk Bragging Trump Staffer Started Russian ...   \n",
            "2   Sheriff David Clarke Becomes An Internet Joke...   \n",
            "3   Trump Is So Obsessed He Even Has Obama’s Name...   \n",
            "4   Pope Francis Just Called Out Donald Trump Dur...   \n",
            "\n",
            "                                                text subject  \\\n",
            "0  Donald Trump just couldn t wish all Americans ...    News   \n",
            "1  House Intelligence Committee Chairman Devin Nu...    News   \n",
            "2  On Friday, it was revealed that former Milwauk...    News   \n",
            "3  On Christmas day, Donald Trump announced that ...    News   \n",
            "4  Pope Francis used his annual Christmas Day mes...    News   \n",
            "\n",
            "                date  \n",
            "0  December 31, 2017  \n",
            "1  December 31, 2017  \n",
            "2  December 30, 2017  \n",
            "3  December 29, 2017  \n",
            "4  December 25, 2017  \n",
            "\n",
            "Real News Dataset:\n",
            "                                               title  \\\n",
            "0  As U.S. budget fight looms, Republicans flip t...   \n",
            "1  U.S. military to accept transgender recruits o...   \n",
            "2  Senior U.S. Republican senator: 'Let Mr. Muell...   \n",
            "3  FBI Russia probe helped by Australian diplomat...   \n",
            "4  Trump wants Postal Service to charge 'much mor...   \n",
            "\n",
            "                                                text       subject  \\\n",
            "0  WASHINGTON (Reuters) - The head of a conservat...  politicsNews   \n",
            "1  WASHINGTON (Reuters) - Transgender people will...  politicsNews   \n",
            "2  WASHINGTON (Reuters) - The special counsel inv...  politicsNews   \n",
            "3  WASHINGTON (Reuters) - Trump campaign adviser ...  politicsNews   \n",
            "4  SEATTLE/WASHINGTON (Reuters) - President Donal...  politicsNews   \n",
            "\n",
            "                 date  \n",
            "0  December 31, 2017   \n",
            "1  December 29, 2017   \n",
            "2  December 31, 2017   \n",
            "3  December 30, 2017   \n",
            "4  December 29, 2017   \n"
          ]
        }
      ],
      "source": [
        "# Loading the datasets from Google Drive\n",
        "fake_url = \"https://drive.google.com/uc?id=1IDxrB9Zr_laQQqYAr2h2VKHcAfRzaN4c\"  # Fake news\n",
        "real_url = \"https://drive.google.com/uc?id=1P98NMVFFUzDQipuIh5UVLEQ3hbYm4X_g\"  # Real news\n",
        "\n",
        "# Read the CSV files\n",
        "fake_df = pd.read_csv(fake_url, encoding='utf-8', on_bad_lines='skip')  # Skips bad lines\n",
        "real_df = pd.read_csv(real_url, encoding='utf-8', on_bad_lines='skip')  # Skips bad lines\n",
        "\n",
        "# Displaying the first few rows of each dataset\n",
        "print(\"Fake News Dataset:\")\n",
        "print(fake_df.head())\n",
        "\n",
        "print(\"\\nReal News Dataset:\")\n",
        "print(real_df.head())"
      ]
    },
    {
      "cell_type": "markdown",
      "source": [
        "# Data Preprocessing"
      ],
      "metadata": {
        "id": "Bfg64Gx0CrQH"
      }
    },
    {
      "cell_type": "code",
      "source": [
        "# Cleaning up column names\n",
        "fake_df.columns = fake_df.columns.str.strip()\n",
        "real_df.columns = real_df.columns.str.strip()\n",
        "\n",
        "# Renaming columns for consistency\n",
        "fake_df.rename(columns={'title ': 'title', 'text subject ': 'text_subject', 'date ': 'date'}, inplace=True)\n",
        "real_df.rename(columns={'title ': 'title', 'text subject ': 'text_subject', 'date ': 'date'}, inplace=True)\n",
        "\n",
        "# Convert date columns to datetime format\n",
        "fake_df['date'] = pd.to_datetime(fake_df['date'], errors='coerce')\n",
        "real_df['date'] = pd.to_datetime(real_df['date'], errors='coerce')\n",
        "\n",
        "# Displaying the first few rows of each dataset\n",
        "print(\"Fake News Dataset:\")\n",
        "print(fake_df.head())\n",
        "\n",
        "print(\"\\nReal News Dataset:\")\n",
        "print(real_df.head())"
      ],
      "metadata": {
        "colab": {
          "base_uri": "https://localhost:8080/"
        },
        "id": "utjgLNXedu3A",
        "outputId": "f4e6cb1b-5295-4b4b-cc7a-4a33d613b6e5"
      },
      "execution_count": null,
      "outputs": [
        {
          "output_type": "stream",
          "name": "stdout",
          "text": [
            "Fake News Dataset:\n",
            "                                               title  \\\n",
            "0   Donald Trump Sends Out Embarrassing New Year’...   \n",
            "1   Drunk Bragging Trump Staffer Started Russian ...   \n",
            "2   Sheriff David Clarke Becomes An Internet Joke...   \n",
            "3   Trump Is So Obsessed He Even Has Obama’s Name...   \n",
            "4   Pope Francis Just Called Out Donald Trump Dur...   \n",
            "\n",
            "                                                text subject       date  \n",
            "0  Donald Trump just couldn t wish all Americans ...    News 2017-12-31  \n",
            "1  House Intelligence Committee Chairman Devin Nu...    News 2017-12-31  \n",
            "2  On Friday, it was revealed that former Milwauk...    News 2017-12-30  \n",
            "3  On Christmas day, Donald Trump announced that ...    News 2017-12-29  \n",
            "4  Pope Francis used his annual Christmas Day mes...    News 2017-12-25  \n",
            "\n",
            "Real News Dataset:\n",
            "                                               title  \\\n",
            "0  As U.S. budget fight looms, Republicans flip t...   \n",
            "1  U.S. military to accept transgender recruits o...   \n",
            "2  Senior U.S. Republican senator: 'Let Mr. Muell...   \n",
            "3  FBI Russia probe helped by Australian diplomat...   \n",
            "4  Trump wants Postal Service to charge 'much mor...   \n",
            "\n",
            "                                                text       subject       date  \n",
            "0  WASHINGTON (Reuters) - The head of a conservat...  politicsNews 2017-12-31  \n",
            "1  WASHINGTON (Reuters) - Transgender people will...  politicsNews 2017-12-29  \n",
            "2  WASHINGTON (Reuters) - The special counsel inv...  politicsNews 2017-12-31  \n",
            "3  WASHINGTON (Reuters) - Trump campaign adviser ...  politicsNews 2017-12-30  \n",
            "4  SEATTLE/WASHINGTON (Reuters) - President Donal...  politicsNews 2017-12-29  \n"
          ]
        }
      ]
    },
    {
      "cell_type": "code",
      "source": [
        "# Handling missing values\n",
        "fake_df.dropna(subset=['text'], inplace=True)\n",
        "real_df.dropna(subset=['text'], inplace=True)"
      ],
      "metadata": {
        "id": "ynOgMfjgf3Pw"
      },
      "execution_count": null,
      "outputs": []
    },
    {
      "cell_type": "code",
      "source": [
        "# Creating random sentiment for demonstration purposes\n",
        "np.random.seed(0)\n",
        "fake_df['Sentiment'] = np.random.choice(['Positive', 'Negative', 'Neutral'], size=len(fake_df))\n",
        "real_df['Sentiment'] = np.random.choice(['Positive', 'Negative', 'Neutral'], size=len(real_df))\n",
        "\n",
        "# Convert sentiment to binary format\n",
        "fake_df['Sentiment'] = fake_df['Sentiment'].map({'Positive': 1, 'Negative': 0, 'Neutral': 0})\n",
        "real_df['Sentiment'] = real_df['Sentiment'].map({'Positive': 1, 'Negative': 0, 'Neutral': 0})\n",
        "\n",
        "# Display the updated datasets\n",
        "print(\"Updated Fake News Dataset:\")\n",
        "print(fake_df.head())\n",
        "\n",
        "print(\"\\nUpdated Real News Dataset:\")\n",
        "print(real_df.head())"
      ],
      "metadata": {
        "colab": {
          "base_uri": "https://localhost:8080/"
        },
        "id": "KegwPxoogU0D",
        "outputId": "ac6662a0-aded-45dd-ca50-5ec76e399f48"
      },
      "execution_count": null,
      "outputs": [
        {
          "output_type": "stream",
          "name": "stdout",
          "text": [
            "Updated Fake News Dataset:\n",
            "                                               title  \\\n",
            "0   Donald Trump Sends Out Embarrassing New Year’...   \n",
            "1   Drunk Bragging Trump Staffer Started Russian ...   \n",
            "2   Sheriff David Clarke Becomes An Internet Joke...   \n",
            "3   Trump Is So Obsessed He Even Has Obama’s Name...   \n",
            "4   Pope Francis Just Called Out Donald Trump Dur...   \n",
            "\n",
            "                                                text subject       date  \\\n",
            "0  Donald Trump just couldn t wish all Americans ...    News 2017-12-31   \n",
            "1  House Intelligence Committee Chairman Devin Nu...    News 2017-12-31   \n",
            "2  On Friday, it was revealed that former Milwauk...    News 2017-12-30   \n",
            "3  On Christmas day, Donald Trump announced that ...    News 2017-12-29   \n",
            "4  Pope Francis used his annual Christmas Day mes...    News 2017-12-25   \n",
            "\n",
            "   Sentiment  \n",
            "0          1  \n",
            "1          0  \n",
            "2          1  \n",
            "3          0  \n",
            "4          0  \n",
            "\n",
            "Updated Real News Dataset:\n",
            "                                               title  \\\n",
            "0  As U.S. budget fight looms, Republicans flip t...   \n",
            "1  U.S. military to accept transgender recruits o...   \n",
            "2  Senior U.S. Republican senator: 'Let Mr. Muell...   \n",
            "3  FBI Russia probe helped by Australian diplomat...   \n",
            "4  Trump wants Postal Service to charge 'much mor...   \n",
            "\n",
            "                                                text       subject       date  \\\n",
            "0  WASHINGTON (Reuters) - The head of a conservat...  politicsNews 2017-12-31   \n",
            "1  WASHINGTON (Reuters) - Transgender people will...  politicsNews 2017-12-29   \n",
            "2  WASHINGTON (Reuters) - The special counsel inv...  politicsNews 2017-12-31   \n",
            "3  WASHINGTON (Reuters) - Trump campaign adviser ...  politicsNews 2017-12-30   \n",
            "4  SEATTLE/WASHINGTON (Reuters) - President Donal...  politicsNews 2017-12-29   \n",
            "\n",
            "   Sentiment  \n",
            "0          1  \n",
            "1          0  \n",
            "2          0  \n",
            "3          0  \n",
            "4          0  \n"
          ]
        }
      ]
    },
    {
      "cell_type": "code",
      "source": [
        "# Cleaning the text data\n",
        "def clean_text(text):\n",
        "    text = text.lower()  # Convert to lowercase\n",
        "    text = re.sub(r'[^a-z\\s]', '', text)  # Remove special characters\n",
        "    return text\n",
        "\n",
        "# Applying the cleaning function to the 'text' column of both datasets\n",
        "fake_df['text'] = fake_df['text'].apply(clean_text)\n",
        "real_df['text'] = real_df['text'].apply(clean_text)\n",
        "\n",
        "# Displaying the first few rows of the cleaned datasets\n",
        "print(\"Cleaned Fake News Dataset:\")\n",
        "print(fake_df.head())\n",
        "\n",
        "print(\"\\nCleaned Real News Dataset:\")\n",
        "print(real_df.head())"
      ],
      "metadata": {
        "colab": {
          "base_uri": "https://localhost:8080/"
        },
        "id": "qZWPGSXRhLWZ",
        "outputId": "c556a001-2b56-4ee7-f095-8b12c2dca972"
      },
      "execution_count": null,
      "outputs": [
        {
          "output_type": "stream",
          "name": "stdout",
          "text": [
            "Cleaned Fake News Dataset:\n",
            "                                               title  \\\n",
            "0   Donald Trump Sends Out Embarrassing New Year’...   \n",
            "1   Drunk Bragging Trump Staffer Started Russian ...   \n",
            "2   Sheriff David Clarke Becomes An Internet Joke...   \n",
            "3   Trump Is So Obsessed He Even Has Obama’s Name...   \n",
            "4   Pope Francis Just Called Out Donald Trump Dur...   \n",
            "\n",
            "                                                text subject       date  \\\n",
            "0  donald trump just couldn t wish all americans ...    News 2017-12-31   \n",
            "1  house intelligence committee chairman devin nu...    News 2017-12-31   \n",
            "2  on friday it was revealed that former milwauke...    News 2017-12-30   \n",
            "3  on christmas day donald trump announced that h...    News 2017-12-29   \n",
            "4  pope francis used his annual christmas day mes...    News 2017-12-25   \n",
            "\n",
            "   Sentiment  \n",
            "0          1  \n",
            "1          0  \n",
            "2          1  \n",
            "3          0  \n",
            "4          0  \n",
            "\n",
            "Cleaned Real News Dataset:\n",
            "                                               title  \\\n",
            "0  As U.S. budget fight looms, Republicans flip t...   \n",
            "1  U.S. military to accept transgender recruits o...   \n",
            "2  Senior U.S. Republican senator: 'Let Mr. Muell...   \n",
            "3  FBI Russia probe helped by Australian diplomat...   \n",
            "4  Trump wants Postal Service to charge 'much mor...   \n",
            "\n",
            "                                                text       subject       date  \\\n",
            "0  washington reuters  the head of a conservative...  politicsNews 2017-12-31   \n",
            "1  washington reuters  transgender people will be...  politicsNews 2017-12-29   \n",
            "2  washington reuters  the special counsel invest...  politicsNews 2017-12-31   \n",
            "3  washington reuters  trump campaign adviser geo...  politicsNews 2017-12-30   \n",
            "4  seattlewashington reuters  president donald tr...  politicsNews 2017-12-29   \n",
            "\n",
            "   Sentiment  \n",
            "0          1  \n",
            "1          0  \n",
            "2          0  \n",
            "3          0  \n",
            "4          0  \n"
          ]
        }
      ]
    },
    {
      "cell_type": "code",
      "source": [
        "# Combining the datasets\n",
        "combined_df = pd.concat([fake_df.assign(label='fake'), real_df.assign(label='real')])\n",
        "\n",
        "combined_df.head()"
      ],
      "metadata": {
        "colab": {
          "base_uri": "https://localhost:8080/",
          "height": 206
        },
        "id": "Tf3lv7SJw9Qv",
        "outputId": "d16ce062-f4b0-4df1-8c38-522fb7b86dc8"
      },
      "execution_count": null,
      "outputs": [
        {
          "output_type": "execute_result",
          "data": {
            "text/plain": [
              "                                               title  \\\n",
              "0   Donald Trump Sends Out Embarrassing New Year’...   \n",
              "1   Drunk Bragging Trump Staffer Started Russian ...   \n",
              "2   Sheriff David Clarke Becomes An Internet Joke...   \n",
              "3   Trump Is So Obsessed He Even Has Obama’s Name...   \n",
              "4   Pope Francis Just Called Out Donald Trump Dur...   \n",
              "\n",
              "                                                text subject       date  \\\n",
              "0  donald trump just couldn t wish all americans ...    News 2017-12-31   \n",
              "1  house intelligence committee chairman devin nu...    News 2017-12-31   \n",
              "2  on friday it was revealed that former milwauke...    News 2017-12-30   \n",
              "3  on christmas day donald trump announced that h...    News 2017-12-29   \n",
              "4  pope francis used his annual christmas day mes...    News 2017-12-25   \n",
              "\n",
              "   Sentiment label  \n",
              "0          1  fake  \n",
              "1          0  fake  \n",
              "2          1  fake  \n",
              "3          0  fake  \n",
              "4          0  fake  "
            ],
            "text/html": [
              "\n",
              "  <div id=\"df-df2f6b8e-b914-4ae5-b6f6-4fdaa8b6c570\" class=\"colab-df-container\">\n",
              "    <div>\n",
              "<style scoped>\n",
              "    .dataframe tbody tr th:only-of-type {\n",
              "        vertical-align: middle;\n",
              "    }\n",
              "\n",
              "    .dataframe tbody tr th {\n",
              "        vertical-align: top;\n",
              "    }\n",
              "\n",
              "    .dataframe thead th {\n",
              "        text-align: right;\n",
              "    }\n",
              "</style>\n",
              "<table border=\"1\" class=\"dataframe\">\n",
              "  <thead>\n",
              "    <tr style=\"text-align: right;\">\n",
              "      <th></th>\n",
              "      <th>title</th>\n",
              "      <th>text</th>\n",
              "      <th>subject</th>\n",
              "      <th>date</th>\n",
              "      <th>Sentiment</th>\n",
              "      <th>label</th>\n",
              "    </tr>\n",
              "  </thead>\n",
              "  <tbody>\n",
              "    <tr>\n",
              "      <th>0</th>\n",
              "      <td>Donald Trump Sends Out Embarrassing New Year’...</td>\n",
              "      <td>donald trump just couldn t wish all americans ...</td>\n",
              "      <td>News</td>\n",
              "      <td>2017-12-31</td>\n",
              "      <td>1</td>\n",
              "      <td>fake</td>\n",
              "    </tr>\n",
              "    <tr>\n",
              "      <th>1</th>\n",
              "      <td>Drunk Bragging Trump Staffer Started Russian ...</td>\n",
              "      <td>house intelligence committee chairman devin nu...</td>\n",
              "      <td>News</td>\n",
              "      <td>2017-12-31</td>\n",
              "      <td>0</td>\n",
              "      <td>fake</td>\n",
              "    </tr>\n",
              "    <tr>\n",
              "      <th>2</th>\n",
              "      <td>Sheriff David Clarke Becomes An Internet Joke...</td>\n",
              "      <td>on friday it was revealed that former milwauke...</td>\n",
              "      <td>News</td>\n",
              "      <td>2017-12-30</td>\n",
              "      <td>1</td>\n",
              "      <td>fake</td>\n",
              "    </tr>\n",
              "    <tr>\n",
              "      <th>3</th>\n",
              "      <td>Trump Is So Obsessed He Even Has Obama’s Name...</td>\n",
              "      <td>on christmas day donald trump announced that h...</td>\n",
              "      <td>News</td>\n",
              "      <td>2017-12-29</td>\n",
              "      <td>0</td>\n",
              "      <td>fake</td>\n",
              "    </tr>\n",
              "    <tr>\n",
              "      <th>4</th>\n",
              "      <td>Pope Francis Just Called Out Donald Trump Dur...</td>\n",
              "      <td>pope francis used his annual christmas day mes...</td>\n",
              "      <td>News</td>\n",
              "      <td>2017-12-25</td>\n",
              "      <td>0</td>\n",
              "      <td>fake</td>\n",
              "    </tr>\n",
              "  </tbody>\n",
              "</table>\n",
              "</div>\n",
              "    <div class=\"colab-df-buttons\">\n",
              "\n",
              "  <div class=\"colab-df-container\">\n",
              "    <button class=\"colab-df-convert\" onclick=\"convertToInteractive('df-df2f6b8e-b914-4ae5-b6f6-4fdaa8b6c570')\"\n",
              "            title=\"Convert this dataframe to an interactive table.\"\n",
              "            style=\"display:none;\">\n",
              "\n",
              "  <svg xmlns=\"http://www.w3.org/2000/svg\" height=\"24px\" viewBox=\"0 -960 960 960\">\n",
              "    <path d=\"M120-120v-720h720v720H120Zm60-500h600v-160H180v160Zm220 220h160v-160H400v160Zm0 220h160v-160H400v160ZM180-400h160v-160H180v160Zm440 0h160v-160H620v160ZM180-180h160v-160H180v160Zm440 0h160v-160H620v160Z\"/>\n",
              "  </svg>\n",
              "    </button>\n",
              "\n",
              "  <style>\n",
              "    .colab-df-container {\n",
              "      display:flex;\n",
              "      gap: 12px;\n",
              "    }\n",
              "\n",
              "    .colab-df-convert {\n",
              "      background-color: #E8F0FE;\n",
              "      border: none;\n",
              "      border-radius: 50%;\n",
              "      cursor: pointer;\n",
              "      display: none;\n",
              "      fill: #1967D2;\n",
              "      height: 32px;\n",
              "      padding: 0 0 0 0;\n",
              "      width: 32px;\n",
              "    }\n",
              "\n",
              "    .colab-df-convert:hover {\n",
              "      background-color: #E2EBFA;\n",
              "      box-shadow: 0px 1px 2px rgba(60, 64, 67, 0.3), 0px 1px 3px 1px rgba(60, 64, 67, 0.15);\n",
              "      fill: #174EA6;\n",
              "    }\n",
              "\n",
              "    .colab-df-buttons div {\n",
              "      margin-bottom: 4px;\n",
              "    }\n",
              "\n",
              "    [theme=dark] .colab-df-convert {\n",
              "      background-color: #3B4455;\n",
              "      fill: #D2E3FC;\n",
              "    }\n",
              "\n",
              "    [theme=dark] .colab-df-convert:hover {\n",
              "      background-color: #434B5C;\n",
              "      box-shadow: 0px 1px 3px 1px rgba(0, 0, 0, 0.15);\n",
              "      filter: drop-shadow(0px 1px 2px rgba(0, 0, 0, 0.3));\n",
              "      fill: #FFFFFF;\n",
              "    }\n",
              "  </style>\n",
              "\n",
              "    <script>\n",
              "      const buttonEl =\n",
              "        document.querySelector('#df-df2f6b8e-b914-4ae5-b6f6-4fdaa8b6c570 button.colab-df-convert');\n",
              "      buttonEl.style.display =\n",
              "        google.colab.kernel.accessAllowed ? 'block' : 'none';\n",
              "\n",
              "      async function convertToInteractive(key) {\n",
              "        const element = document.querySelector('#df-df2f6b8e-b914-4ae5-b6f6-4fdaa8b6c570');\n",
              "        const dataTable =\n",
              "          await google.colab.kernel.invokeFunction('convertToInteractive',\n",
              "                                                    [key], {});\n",
              "        if (!dataTable) return;\n",
              "\n",
              "        const docLinkHtml = 'Like what you see? Visit the ' +\n",
              "          '<a target=\"_blank\" href=https://colab.research.google.com/notebooks/data_table.ipynb>data table notebook</a>'\n",
              "          + ' to learn more about interactive tables.';\n",
              "        element.innerHTML = '';\n",
              "        dataTable['output_type'] = 'display_data';\n",
              "        await google.colab.output.renderOutput(dataTable, element);\n",
              "        const docLink = document.createElement('div');\n",
              "        docLink.innerHTML = docLinkHtml;\n",
              "        element.appendChild(docLink);\n",
              "      }\n",
              "    </script>\n",
              "  </div>\n",
              "\n",
              "\n",
              "<div id=\"df-4c89dabe-76ef-4000-9dc5-d9fff0c3b24b\">\n",
              "  <button class=\"colab-df-quickchart\" onclick=\"quickchart('df-4c89dabe-76ef-4000-9dc5-d9fff0c3b24b')\"\n",
              "            title=\"Suggest charts\"\n",
              "            style=\"display:none;\">\n",
              "\n",
              "<svg xmlns=\"http://www.w3.org/2000/svg\" height=\"24px\"viewBox=\"0 0 24 24\"\n",
              "     width=\"24px\">\n",
              "    <g>\n",
              "        <path d=\"M19 3H5c-1.1 0-2 .9-2 2v14c0 1.1.9 2 2 2h14c1.1 0 2-.9 2-2V5c0-1.1-.9-2-2-2zM9 17H7v-7h2v7zm4 0h-2V7h2v10zm4 0h-2v-4h2v4z\"/>\n",
              "    </g>\n",
              "</svg>\n",
              "  </button>\n",
              "\n",
              "<style>\n",
              "  .colab-df-quickchart {\n",
              "      --bg-color: #E8F0FE;\n",
              "      --fill-color: #1967D2;\n",
              "      --hover-bg-color: #E2EBFA;\n",
              "      --hover-fill-color: #174EA6;\n",
              "      --disabled-fill-color: #AAA;\n",
              "      --disabled-bg-color: #DDD;\n",
              "  }\n",
              "\n",
              "  [theme=dark] .colab-df-quickchart {\n",
              "      --bg-color: #3B4455;\n",
              "      --fill-color: #D2E3FC;\n",
              "      --hover-bg-color: #434B5C;\n",
              "      --hover-fill-color: #FFFFFF;\n",
              "      --disabled-bg-color: #3B4455;\n",
              "      --disabled-fill-color: #666;\n",
              "  }\n",
              "\n",
              "  .colab-df-quickchart {\n",
              "    background-color: var(--bg-color);\n",
              "    border: none;\n",
              "    border-radius: 50%;\n",
              "    cursor: pointer;\n",
              "    display: none;\n",
              "    fill: var(--fill-color);\n",
              "    height: 32px;\n",
              "    padding: 0;\n",
              "    width: 32px;\n",
              "  }\n",
              "\n",
              "  .colab-df-quickchart:hover {\n",
              "    background-color: var(--hover-bg-color);\n",
              "    box-shadow: 0 1px 2px rgba(60, 64, 67, 0.3), 0 1px 3px 1px rgba(60, 64, 67, 0.15);\n",
              "    fill: var(--button-hover-fill-color);\n",
              "  }\n",
              "\n",
              "  .colab-df-quickchart-complete:disabled,\n",
              "  .colab-df-quickchart-complete:disabled:hover {\n",
              "    background-color: var(--disabled-bg-color);\n",
              "    fill: var(--disabled-fill-color);\n",
              "    box-shadow: none;\n",
              "  }\n",
              "\n",
              "  .colab-df-spinner {\n",
              "    border: 2px solid var(--fill-color);\n",
              "    border-color: transparent;\n",
              "    border-bottom-color: var(--fill-color);\n",
              "    animation:\n",
              "      spin 1s steps(1) infinite;\n",
              "  }\n",
              "\n",
              "  @keyframes spin {\n",
              "    0% {\n",
              "      border-color: transparent;\n",
              "      border-bottom-color: var(--fill-color);\n",
              "      border-left-color: var(--fill-color);\n",
              "    }\n",
              "    20% {\n",
              "      border-color: transparent;\n",
              "      border-left-color: var(--fill-color);\n",
              "      border-top-color: var(--fill-color);\n",
              "    }\n",
              "    30% {\n",
              "      border-color: transparent;\n",
              "      border-left-color: var(--fill-color);\n",
              "      border-top-color: var(--fill-color);\n",
              "      border-right-color: var(--fill-color);\n",
              "    }\n",
              "    40% {\n",
              "      border-color: transparent;\n",
              "      border-right-color: var(--fill-color);\n",
              "      border-top-color: var(--fill-color);\n",
              "    }\n",
              "    60% {\n",
              "      border-color: transparent;\n",
              "      border-right-color: var(--fill-color);\n",
              "    }\n",
              "    80% {\n",
              "      border-color: transparent;\n",
              "      border-right-color: var(--fill-color);\n",
              "      border-bottom-color: var(--fill-color);\n",
              "    }\n",
              "    90% {\n",
              "      border-color: transparent;\n",
              "      border-bottom-color: var(--fill-color);\n",
              "    }\n",
              "  }\n",
              "</style>\n",
              "\n",
              "  <script>\n",
              "    async function quickchart(key) {\n",
              "      const quickchartButtonEl =\n",
              "        document.querySelector('#' + key + ' button');\n",
              "      quickchartButtonEl.disabled = true;  // To prevent multiple clicks.\n",
              "      quickchartButtonEl.classList.add('colab-df-spinner');\n",
              "      try {\n",
              "        const charts = await google.colab.kernel.invokeFunction(\n",
              "            'suggestCharts', [key], {});\n",
              "      } catch (error) {\n",
              "        console.error('Error during call to suggestCharts:', error);\n",
              "      }\n",
              "      quickchartButtonEl.classList.remove('colab-df-spinner');\n",
              "      quickchartButtonEl.classList.add('colab-df-quickchart-complete');\n",
              "    }\n",
              "    (() => {\n",
              "      let quickchartButtonEl =\n",
              "        document.querySelector('#df-4c89dabe-76ef-4000-9dc5-d9fff0c3b24b button');\n",
              "      quickchartButtonEl.style.display =\n",
              "        google.colab.kernel.accessAllowed ? 'block' : 'none';\n",
              "    })();\n",
              "  </script>\n",
              "</div>\n",
              "\n",
              "    </div>\n",
              "  </div>\n"
            ],
            "application/vnd.google.colaboratory.intrinsic+json": {
              "type": "dataframe",
              "variable_name": "combined_df",
              "summary": "{\n  \"name\": \"combined_df\",\n  \"rows\": 44898,\n  \"fields\": [\n    {\n      \"column\": \"title\",\n      \"properties\": {\n        \"dtype\": \"string\",\n        \"num_unique_values\": 38729,\n        \"samples\": [\n          \"Supreme Court Justice Ginsburg 'regrets' Trump criticisms\",\n          \" DOZENS Of GOP Foreign Policy Experts Pledge To Stop Trump From Winning Nomination\",\n          \" REPORT: Trump Laughed After Woman Was Grabbed \\u2018By The P*ssy\\u2019 On Apprentice Set\"\n        ],\n        \"semantic_type\": \"\",\n        \"description\": \"\"\n      }\n    },\n    {\n      \"column\": \"text\",\n      \"properties\": {\n        \"dtype\": \"string\",\n        \"num_unique_values\": 38646,\n        \"samples\": [\n          \" this september  has been corrected to fix date of election in paragraph  nairobi reuters  a kenyan government watchdog said on friday it was investigating whether police had assaulted students during protests this week at the university of nairobi over the detention of an opposition lawmaker   police fired tear gas on thursday at the protesting students video footage posted on social media later in the day showed uniformed officers outside dormitories and inside classrooms using batons to hit people who did not appear to be involved in the campus protests  it was the latest crackdown by police on protests since an aug  presidential election that was later annulled by the supreme court a rerun of the vote has been set for oct  the independent police oversight authority ipoa  this morning noted from social media reports of an incident in which members of the national police service allegedly stormed the university of nairobi and assaulted students at the institution  the authority said on its twitter feed  it requested that any member of the public come forward to provide information to aid the investigation  the students had been protesting against the rearrest of a lawmaker paul ongili owino on wednesday shortly after he was released on bail on charges of subversion for calling president uhuru kenyatta a  son of a dog  at a campaign rally kenya is a key western ally in a region often roiled by violence preparations for the rerun of the election are being closely monitored for signs of instability after at least  people were killed in unrest following the aug  vote the ipoa watchdog was created in  after police came under severe criticism for the number of protesters killed during demonstrations against disputed elections in  the violence then killed around  people but local and international rights groups say the institution is struggling to fulfill its mandate to investigate allegations of police brutality in a country rife with reports from civilians of extrajudicial killings by security forces  the ipoa has secured two convictions of police officers in the four years it has been operational the watchdog pledged last month to fasttrack investigations into highprofile deaths such as that of a baby allegedly killed by police in the violence after the election lnlfc but people familiar with the status of these investigations say the police are not cooperating with them and that senior officials in the police force and the interior ministry insist officers killed only thieves and thugs \",\n          \"washingtoncairo reuters  five iraqi passengers and one yemeni were barred from boarding an egyptair flight from cairo to new york on saturday after president donald trump halted the entry of citizens from seven muslimmajority countries sources at cairo airport said the passengers arriving in transit to cairo airport were stopped and redirected to flights headed for their home countries despite holding valid visas the sources said  trump on friday put a fourmonth hold on allowing refugees into the united states and temporarily barred travelers from syria and six other muslimmajority countries saying the moves would help protect americans from terrorist attacks he said his most sweeping use of his presidential powers since taking office a week ago barring travelers from the seven nations for at least  days would give his administration time to develop more stringent screening procedures for refugees immigrants and visitors im establishing new vetting measures to keep radical islamic terrorists out of the united states of america dont want them here trump said earlier on friday at the pentagon we only want to admit those into our country who will support our country and love deeply our people he said the bans though temporary took effect immediately causing havoc and confusion for wouldbe travelers with passports from iran iraq libya somalia sudan syria and yemen besides cairo it was not immediately clear whether other  airports of countries listed by trump had swiftly implemented the ban arab officials of the listed countries would not comment on the matter the order seeks to prioritize refugees fleeing religious persecution a move trump separately said was aimed at helping christians in syria that led some legal experts to question whether the order was constitutional one group said it would announce a court challenge on monday the council on americanislamic relations said the order targets muslims because of their faith contravening the us constitutional right to freedom of religion president trump has cloaked what is a discriminatory ban against nationals of muslim countries under the banner of national security said greg chen of the american immigration lawyers association  trump has long pledged to take this kind of action making it a prominent feature of his campaign for the nov  election but people who work with muslim immigrants and refugees were scrambling to determine the scope of the order even legal permanent residents  people with green cards allowing them to live and work in the united states  were being advised to consult immigration lawyers before traveling outside the country or trying to return according to muslim advocates a civil rights group in washington  on friday evening abed ayoub of the americanarab antidiscrimination committee said he had fielded about  queries from people anxious about the order which he said he believed could affect traveling green card holders students people coming to the united states for medical care and others its chaos ayoub said during his campaign trump tapped into american fears about islamic state militants and the flood of migrants into europe from syrias civil war saying refugees could be a trojan horse that allowed attackers to enter the united states in december  he called for a ban on all muslims entering the united states drawing fire for suggesting a religious test for immigrants that critics said would violate the us constitution his idea later evolved into a proposal for extreme vetting  trumps order also suspends the syrian refugee program until further notice and will eventually give priority to minority religious groups fleeing persecution  trump said in an interview with the christian broadcasting network that the exception would help syrian christians fleeing the civil war there legal experts were divided on whether this order would be constitutional if they are thinking about an exception for christians in almost any other legal context discriminating in favor of one religion and against another religion could violate the constitution said stephen legomsky a former chief counsel at us citizenship and immigration services in the obama administration but peter spiro a professor at temple university beasley school of law said trumps action would likely be constitutional because the president and congress are allowed considerable deference when it comes to asylum decisions its a completely plausible prioritization to the extent this group is actually being persecuted spiro said the order may also affect special refugee programs for iraqis who worked for the us government as translators after the  invasion of iraq it is already affecting refugees and their families said jen smyers of the church world service a protestant faithbased group that works with migrants smyers said she spoke to an iraqi mother whose twin daughters remain in iraq due to processing delays those two yearold daughters wont be able to join their mother in the us she said democrats on friday were quick to condemn trumps order as unamerican saying it would tarnish the reputation of the united states as a land that welcomes immigrants todays executive order from president trump is more about extreme xenophobia than extreme vetting said democratic senator edward markey in a statement some republicans praised the move representative bob goodlatte chairman of the house of representatives judiciary committee said islamic state has threatened to use the us immigration system making it important to do more screening i am pleased that president trump is using the tools granted to him by congress and the power granted by the constitution to help keep america safe and ensure we know who is entering the united states goodlatte said in a statement without naming trump iranian president hassan rouhani said on saturday it was no time to build walls between nations and criticized steps towards cancelling world trade agreements trump on wednesday ordered the construction of a usmexican border wall a major promise during his election campaign as part of a package of measures to curb illegal immigration today is not the time to erect walls between nations they have forgotten that the berlin wall fell years ago rouhani said in a speech carried live on iranian state television he made no direct reference to trumps order regarding refugees and travelers from the seven mainly muslim states rouhani a pragmatist elected in  thawed irans relations with world powers after years of confrontation and engineered its  deal with them under which it curbed its nuclear program in exchange for relief from sanctions rouhani said earlier this month that trump could not unilaterally cancel the nuclear deal and that talk of renegotiating it was meaningless france and germany voiced disquiet on saturday over trumps new restrictions on immigration welcoming refugees who flee war and oppression is part of our duty french foreign minister jeanmarc ayrault said at a joint news conference with german counterpart sigmar gabriel the united states is a country where christian traditions have an important meaning loving your neighbor is a major christian value and that includes helping people said  gabriel i think that is what unites us in the west and i think that is what we want to make clear to the americans \",\n          \"pristina reuters  kosovo s centerright coalition led by the democratic party of kosovo signed a deal on monday with the small new alliance for kosovo party to form a government ending nearly three months of political deadlock after an election on june       finally kosovo has started to move  we had some big delays and our institutions now will be formed  said ramush haradinaj from the centerright coalition of parties made up of former guerrillas who fought the  war against serb forces under the deal the parties along with ethnic minorities will secure  seats in the seat parliament  president hashim thaci is expected to give haradinaj a mandate to form the government within days a source who asked not to be named told reuters the parliament session to elect the parliament speaker would be held this week haradinaj who twice stood trial before the united nations war crimes court for war crimes and was acquitted briefly held the post of prime minister in   the smaller new alliance for kosovo party is led by behgjet pacolli who is dubbed by media the richest kosovar  pacolli who also holds a swiss passport won many contracts from the russian government to rebuild state buildings in moscow in the  s but a decade ago he moved his business from moscow to kazakhstan  it is unclear what post pacolli will hold in the new government  the new government will have to tackle unemployment running at  percent and improve relations with kosovo s neighbors especially serbia a precondition for both countries to move forward in the european union accession process it must also reform health and education and the tax administration system as well as include representatives of some  kosovo serbs who do not recognize independence kosovo declared independence from serbia in  almost a decade after nato air strikes drove out serbian forces accused of expelling and killing ethnic albanian civilians in a twoyear counterinsurgency  \"\n        ],\n        \"semantic_type\": \"\",\n        \"description\": \"\"\n      }\n    },\n    {\n      \"column\": \"subject\",\n      \"properties\": {\n        \"dtype\": \"category\",\n        \"num_unique_values\": 8,\n        \"samples\": [\n          \"politics\",\n          \"Middle-east\",\n          \"News\"\n        ],\n        \"semantic_type\": \"\",\n        \"description\": \"\"\n      }\n    },\n    {\n      \"column\": \"date\",\n      \"properties\": {\n        \"dtype\": \"date\",\n        \"min\": \"2015-05-01 00:00:00\",\n        \"max\": \"2017-12-31 00:00:00\",\n        \"num_unique_values\": 761,\n        \"samples\": [\n          \"2016-11-22 00:00:00\",\n          \"2017-02-02 00:00:00\",\n          \"2017-09-17 00:00:00\"\n        ],\n        \"semantic_type\": \"\",\n        \"description\": \"\"\n      }\n    },\n    {\n      \"column\": \"Sentiment\",\n      \"properties\": {\n        \"dtype\": \"number\",\n        \"std\": 0,\n        \"min\": 0,\n        \"max\": 1,\n        \"num_unique_values\": 2,\n        \"samples\": [\n          0,\n          1\n        ],\n        \"semantic_type\": \"\",\n        \"description\": \"\"\n      }\n    },\n    {\n      \"column\": \"label\",\n      \"properties\": {\n        \"dtype\": \"category\",\n        \"num_unique_values\": 2,\n        \"samples\": [\n          \"real\",\n          \"fake\"\n        ],\n        \"semantic_type\": \"\",\n        \"description\": \"\"\n      }\n    }\n  ]\n}"
            }
          },
          "metadata": {},
          "execution_count": 7
        }
      ]
    },
    {
      "cell_type": "markdown",
      "source": [
        "# Text Vectorization with TF-IDF"
      ],
      "metadata": {
        "id": "iWy0-XUfhqUQ"
      }
    },
    {
      "cell_type": "code",
      "source": [
        "# Initializing the TF-IDF vectorizer\n",
        "tfidf_vectorizer = TfidfVectorizer(max_features=5000, ngram_range=(1, 2), stop_words='english')\n",
        "\n",
        "# Transforming the text data\n",
        "X_tfidf = tfidf_vectorizer.fit_transform(combined_df['text'])\n",
        "y = combined_df['label'].map({'fake': 0, 'real': 1})  # Convert to binary\n"
      ],
      "metadata": {
        "id": "85P00ObKhvSY"
      },
      "execution_count": null,
      "outputs": []
    },
    {
      "cell_type": "markdown",
      "source": [
        "# Splitting the Data"
      ],
      "metadata": {
        "id": "t_yNk4JPDNCm"
      }
    },
    {
      "cell_type": "code",
      "source": [
        "# Splitting the data into train and test sets\n",
        "X_train, X_test, y_train, y_test = train_test_split(X_tfidf, y, test_size=0.2, random_state=42)\n",
        "\n",
        "# Displaying the shape of the training and test sets\n",
        "print(\"Training set shape:\", X_train.shape)\n",
        "print(\"Test set shape:\", X_test.shape)\n"
      ],
      "metadata": {
        "colab": {
          "base_uri": "https://localhost:8080/"
        },
        "id": "0GOJk_ypkwSr",
        "outputId": "a811b1c8-4390-48d0-962a-ab9a5f9d03ac"
      },
      "execution_count": null,
      "outputs": [
        {
          "output_type": "stream",
          "name": "stdout",
          "text": [
            "Training set shape: (35918, 5000)\n",
            "Test set shape: (8980, 5000)\n"
          ]
        }
      ]
    },
    {
      "cell_type": "code",
      "source": [
        "# Define the function for plotting confusion matrices\n",
        "def plot_confusion_matrix(y_true, y_pred, model_name, ax):\n",
        "    conf_matrix = confusion_matrix(y_true, y_pred)\n",
        "    sns.heatmap(conf_matrix, annot=True, fmt='d', cmap='Blues', cbar=False, ax=ax)\n",
        "    ax.set_title(f\"Confusion Matrix - {model_name}\")\n",
        "    ax.set_xlabel('Predicted Label')\n",
        "    ax.set_ylabel('True Label')\n",
        "    ax.set_xticks(ticks=[0.5, 1.5])\n",
        "    ax.set_xticklabels(['Fake', 'Real'])\n",
        "    ax.set_yticks(ticks=[0.5, 1.5])\n",
        "    ax.set_yticklabels(['Fake', 'Real'], rotation=0)\n"
      ],
      "metadata": {
        "id": "Rkvaxu2Z46ao"
      },
      "execution_count": null,
      "outputs": []
    },
    {
      "cell_type": "markdown",
      "source": [
        "# Logistic Regression"
      ],
      "metadata": {
        "id": "caO-CKHwmyie"
      }
    },
    {
      "cell_type": "code",
      "source": [
        "# Logistic Regression Model\n",
        "lr_model = LogisticRegression(max_iter=1000)\n",
        "lr_model.fit(X_train, y_train)\n",
        "\n",
        "# Making predictions\n",
        "y_pred_lr = lr_model.predict(X_test)\n",
        "\n",
        "# Evaluating the model\n",
        "print(\"Logistic Regression Classification Report:\")\n",
        "print(classification_report(y_test, y_pred_lr))"
      ],
      "metadata": {
        "colab": {
          "base_uri": "https://localhost:8080/"
        },
        "id": "OhuQ-OwOm2YX",
        "outputId": "659bfce9-8e6b-46f0-d1e8-322dde5b8922"
      },
      "execution_count": null,
      "outputs": [
        {
          "output_type": "stream",
          "name": "stdout",
          "text": [
            "Logistic Regression Classification Report:\n",
            "              precision    recall  f1-score   support\n",
            "\n",
            "           0       0.99      0.99      0.99      4733\n",
            "           1       0.99      0.99      0.99      4247\n",
            "\n",
            "    accuracy                           0.99      8980\n",
            "   macro avg       0.99      0.99      0.99      8980\n",
            "weighted avg       0.99      0.99      0.99      8980\n",
            "\n"
          ]
        }
      ]
    },
    {
      "cell_type": "code",
      "source": [
        "\n",
        "# Plotting confusion matrix\n",
        "plt.figure(figsize=(8, 6))\n",
        "plot_confusion_matrix(y_test, y_pred_lr, \"Logistic Regression\", plt.gca())  # Pass the current axis\n",
        "plt.show()"
      ],
      "metadata": {
        "colab": {
          "base_uri": "https://localhost:8080/",
          "height": 564
        },
        "id": "Bo8FpujUya6J",
        "outputId": "b843ade0-cfc2-4851-9ec9-882ded36bb6a"
      },
      "execution_count": null,
      "outputs": [
        {
          "output_type": "display_data",
          "data": {
            "text/plain": [
              "<Figure size 800x600 with 1 Axes>"
            ],
            "image/png": "[encoded data removed]"
          },
          "metadata": {}
        }
      ]
    },
    {
      "cell_type": "markdown",
      "source": [
        "# Support Vector Machine (SVM)"
      ],
      "metadata": {
        "id": "s7HBYnS_oGI4"
      }
    },
    {
      "cell_type": "code",
      "source": [
        "# SVM Model - takes 7 minutes\n",
        "svm_model = SVC(kernel='linear')\n",
        "svm_model.fit(X_train, y_train)\n",
        "\n",
        "# Making predictions\n",
        "y_pred_svm = svm_model.predict(X_test)\n",
        "\n",
        "# Evaluating the model\n",
        "print(\"SVM Classification Report:\")\n",
        "print(classification_report(y_test, y_pred_svm))"
      ],
      "metadata": {
        "colab": {
          "base_uri": "https://localhost:8080/"
        },
        "id": "wMPw1st4oPQq",
        "outputId": "274914d6-24e6-4ae4-fb2b-d940462d1205"
      },
      "execution_count": null,
      "outputs": [
        {
          "output_type": "stream",
          "name": "stdout",
          "text": [
            "SVM Classification Report:\n",
            "              precision    recall  f1-score   support\n",
            "\n",
            "           0       1.00      0.99      0.99      4733\n",
            "           1       0.99      0.99      0.99      4247\n",
            "\n",
            "    accuracy                           0.99      8980\n",
            "   macro avg       0.99      0.99      0.99      8980\n",
            "weighted avg       0.99      0.99      0.99      8980\n",
            "\n"
          ]
        }
      ]
    },
    {
      "cell_type": "code",
      "source": [
        "# Plotting confusion matrix\n",
        "plt.figure(figsize=(8, 6))\n",
        "plot_confusion_matrix(y_test, y_pred_svm, \"SVM\", plt.gca())  # Pass the current axis\n",
        "plt.show()"
      ],
      "metadata": {
        "colab": {
          "base_uri": "https://localhost:8080/",
          "height": 564
        },
        "id": "ytwBYIkkyqo_",
        "outputId": "f534997c-c5b3-4e86-d9d6-4100b498aa23"
      },
      "execution_count": null,
      "outputs": [
        {
          "output_type": "display_data",
          "data": {
            "text/plain": [
              "<Figure size 800x600 with 1 Axes>"
            ],
            "image/png": "[encoded data removed]"
          },
          "metadata": {}
        }
      ]
    },
    {
      "cell_type": "markdown",
      "source": [
        "# XGBoost"
      ],
      "metadata": {
        "id": "_eODOD1YsrEg"
      }
    },
    {
      "cell_type": "code",
      "source": [
        "# XGBoost Model\n",
        "xgb_model = XGBClassifier(eval_metric='logloss')  # Remove use_label_encoder\n",
        "xgb_model.fit(X_train, y_train)\n",
        "\n",
        "# Making predictions\n",
        "y_pred_xgb = xgb_model.predict(X_test)\n",
        "\n",
        "# Evaluating the model\n",
        "print(\"XGBoost Classification Report:\")\n",
        "print(classification_report(y_test, y_pred_xgb))"
      ],
      "metadata": {
        "colab": {
          "base_uri": "https://localhost:8080/"
        },
        "id": "rxp2rPvJsujV",
        "outputId": "677854aa-e12b-4202-dd7a-1a11840257a7"
      },
      "execution_count": null,
      "outputs": [
        {
          "output_type": "stream",
          "name": "stdout",
          "text": [
            "XGBoost Classification Report:\n",
            "              precision    recall  f1-score   support\n",
            "\n",
            "           0       1.00      1.00      1.00      4733\n",
            "           1       1.00      1.00      1.00      4247\n",
            "\n",
            "    accuracy                           1.00      8980\n",
            "   macro avg       1.00      1.00      1.00      8980\n",
            "weighted avg       1.00      1.00      1.00      8980\n",
            "\n"
          ]
        }
      ]
    },
    {
      "cell_type": "code",
      "source": [
        "\n",
        "# Plotting confusion matrix\n",
        "plt.figure(figsize=(8, 6))\n",
        "plot_confusion_matrix(y_test, y_pred_xgb, \"XGBoost\", plt.gca())  # Pass the current axis\n",
        "plt.show()"
      ],
      "metadata": {
        "colab": {
          "base_uri": "https://localhost:8080/",
          "height": 564
        },
        "id": "CGZq5vLE1x3V",
        "outputId": "38b4e2df-368c-4df0-8de6-1ecfcb0d6a95"
      },
      "execution_count": null,
      "outputs": [
        {
          "output_type": "display_data",
          "data": {
            "text/plain": [
              "<Figure size 800x600 with 1 Axes>"
            ],
            "image/png": "[encoded data removed]"
          },
          "metadata": {}
        }
      ]
    },
    {
      "cell_type": "markdown",
      "source": [
        "# Confusion Matrices"
      ],
      "metadata": {
        "id": "CIROWQCv7cZN"
      }
    },
    {
      "cell_type": "code",
      "source": [
        "# Plotting confusion matrices\n",
        "fig, axes = plt.subplots(1, 3, figsize=(24, 6))\n",
        "plot_confusion_matrix(y_test, y_pred_lr, \"Logistic Regression\", axes[0])\n",
        "plot_confusion_matrix(y_test, y_pred_svm, \"SVM\", axes[1])\n",
        "plot_confusion_matrix(y_test, y_pred_xgb, \"XGBoost\", axes[2])\n",
        "plt.tight_layout()\n",
        "plt.show()\n"
      ],
      "metadata": {
        "colab": {
          "base_uri": "https://localhost:8080/",
          "height": 366
        },
        "id": "Rx_whMtR7g0F",
        "outputId": "7e2b2a1a-8afd-450c-dc27-357032722700"
      },
      "execution_count": null,
      "outputs": [
        {
          "output_type": "display_data",
          "data": {
            "text/plain": [
              "<Figure size 2400x600 with 3 Axes>"
            ],
            "image/png": "[encoded data removed]"
          },
          "metadata": {}
        }
      ]
    },
    {
      "cell_type": "markdown",
      "source": [
        "# Enhancing Visualizations"
      ],
      "metadata": {
        "id": "Cg4h-XDL78oe"
      }
    },
    {
      "cell_type": "code",
      "source": [
        "# Function to plot ROC curve\n",
        "def plot_roc_curve(y_true, y_pred_prob, model_name):\n",
        "    fpr, tpr, _ = roc_curve(y_true, y_pred_prob)\n",
        "    roc_auc = auc(fpr, tpr)\n",
        "    plt.plot(fpr, tpr, label=f'{model_name} (AUC = {roc_auc:.2f})')\n",
        "\n",
        "# Get predicted probabilities for each model\n",
        "y_pred_prob_lr = lr_model.predict_proba(X_test)[:, 1]\n",
        "y_pred_prob_svm = svm_model.decision_function(X_test)\n",
        "y_pred_prob_xgb = xgb_model.predict_proba(X_test)[:, 1]\n",
        "\n",
        "# Plot ROC curves\n",
        "plt.figure(figsize=(10, 6))\n",
        "plot_roc_curve(y_test, y_pred_prob_lr, \"Logistic Regression\")\n",
        "plot_roc_curve(y_test, y_pred_prob_svm, \"SVM\")\n",
        "plot_roc_curve(y_test, y_pred_prob_xgb, \"XGBoost\")\n",
        "\n",
        "# Finalize ROC plot\n",
        "plt.plot([0, 1], [0, 1], 'k--')\n",
        "plt.xlim([0.0, 1.0])\n",
        "plt.ylim([0.0, 1.0])\n",
        "plt.xlabel('False Positive Rate')\n",
        "plt.ylabel('True Positive Rate')\n",
        "plt.title('Receiver Operating Characteristic (ROC) Curve')\n",
        "plt.legend(loc='lower right')\n",
        "plt.show()\n"
      ],
      "metadata": {
        "colab": {
          "base_uri": "https://localhost:8080/",
          "height": 564
        },
        "id": "OT5Rxdx7XyI3",
        "outputId": "6dd3adb0-9625-4c50-e2b3-a330651da457"
      },
      "execution_count": null,
      "outputs": [
        {
          "output_type": "display_data",
          "data": {
            "text/plain": [
              "<Figure size 1000x600 with 1 Axes>"
            ],
            "image/png": "[encoded data removed]"
          },
          "metadata": {}
        }
      ]
    },
    {
      "cell_type": "markdown",
      "source": [
        "# Cross-Validations"
      ],
      "metadata": {
        "id": "STEFEwSX82kk"
      }
    },
    {
      "cell_type": "code",
      "source": [
        "# Cross-validation for Logistic Regression\n",
        "scores_lr = cross_val_score(lr_model, X_tfidf, y, cv=3)  # Use 3 folds\n",
        "\n",
        "print(\"Logistic Regression CV Scores:\", scores_lr)"
      ],
      "metadata": {
        "colab": {
          "base_uri": "https://localhost:8080/"
        },
        "id": "-S8zuc5w89qa",
        "outputId": "2cf81863-6996-4de6-f287-51cd61ff8bc9"
      },
      "execution_count": null,
      "outputs": [
        {
          "output_type": "stream",
          "name": "stdout",
          "text": [
            "Logistic Regression CV Scores: [0.97848457 0.96558867 0.97761593]\n"
          ]
        }
      ]
    },
    {
      "cell_type": "code",
      "source": [
        "# Cross-validation for SVM 31 minutes\n",
        "# scores_svm = cross_val_score(svm_model, X_tfidf, y, cv=5)\n",
        "# print(\"SVM CV Scores:\", scores_svm)"
      ],
      "metadata": {
        "id": "xigwvfq29DEL"
      },
      "execution_count": null,
      "outputs": []
    },
    {
      "cell_type": "code",
      "source": [
        "# Cross-Validation for SVM with reduced folds and parallel processing 9 minutes\n",
        "\n",
        "skf = StratifiedKFold(n_splits=3)  # Use 3 folds\n",
        "scores_svm = cross_val_score(svm_model, X_tfidf, y, cv=skf, n_jobs=-1)  # Parallel processing\n",
        "print(\"SVM CV Scores:\", scores_svm)"
      ],
      "metadata": {
        "colab": {
          "base_uri": "https://localhost:8080/"
        },
        "id": "R5HpJM6pSPSL",
        "outputId": "d1b055e8-78f1-45c0-bfc2-e4a53d41ed85"
      },
      "execution_count": null,
      "outputs": [
        {
          "output_type": "stream",
          "name": "stdout",
          "text": [
            "SVM CV Scores: [0.99044501 0.98536683 0.98917546]\n"
          ]
        }
      ]
    },
    {
      "cell_type": "markdown",
      "source": [
        "# Feature Importance"
      ],
      "metadata": {
        "id": "Cg_5Mi5o_dnv"
      }
    },
    {
      "cell_type": "code",
      "source": [
        "# Feature Importance Visualization\n",
        "xgb_plot_importance = xgb_model.get_booster().get_score(importance_type='weight')\n",
        "sorted_importance = sorted(xgb_plot_importance.items(), key=lambda x: x[1], reverse=True)\n",
        "\n",
        "# Prepare data for plotting\n",
        "features, scores = zip(*sorted_importance[:10])  # Top 10 features\n",
        "\n",
        "# Get feature names from the TF-IDF vectorizer\n",
        "feature_names = tfidf_vectorizer.get_feature_names_out()\n",
        "\n",
        "# Map feature indices to names\n",
        "feature_labels = [feature_names[int(f[1:])] for f in features]  # Convert to actual feature names\n",
        "\n",
        "# Plotting the feature importance\n",
        "plt.figure(figsize=(10, 6))\n",
        "plt.barh(feature_labels, scores)  # Use actual feature names\n",
        "plt.title('Top 10 Feature Importance for XGBoost')\n",
        "plt.xlabel('Feature Importance Score')\n",
        "plt.ylabel('Features')\n",
        "plt.show()\n"
      ],
      "metadata": {
        "colab": {
          "base_uri": "https://localhost:8080/",
          "height": 564
        },
        "id": "-caJ1cEfR988",
        "outputId": "1686de23-b049-4d54-f1b4-b6be27f8fa37"
      },
      "execution_count": null,
      "outputs": [
        {
          "output_type": "display_data",
          "data": {
            "text/plain": [
              "<Figure size 1000x600 with 1 Axes>"
            ],
            "image/png": "[encoded data removed]"
          },
          "metadata": {}
        }
      ]
    },
    {
      "cell_type": "markdown",
      "source": [
        "# Model Comparison Table"
      ],
      "metadata": {
        "id": "XASwBD_O_kz5"
      }
    },
    {
      "cell_type": "code",
      "source": [
        "# Create a summary DataFrame\n",
        "performance_df = pd.DataFrame({\n",
        "    'Model': ['Logistic Regression', 'SVM', 'XGBoost'],\n",
        "    'Accuracy': [accuracy_score(y_test, y_pred_lr), accuracy_score(y_test, y_pred_svm), accuracy_score(y_test, y_pred_xgb)],\n",
        "    'F1 Score': [f1_score(y_test, y_pred_lr), f1_score(y_test, y_pred_svm), f1_score(y_test, y_pred_xgb)]\n",
        "})\n",
        "\n",
        "print(performance_df)\n"
      ],
      "metadata": {
        "colab": {
          "base_uri": "https://localhost:8080/"
        },
        "id": "epkgU7aV_qVu",
        "outputId": "79c5d394-5eb7-423c-efcd-cd772c831d63"
      },
      "execution_count": null,
      "outputs": [
        {
          "output_type": "stream",
          "name": "stdout",
          "text": [
            "                 Model  Accuracy  F1 Score\n",
            "0  Logistic Regression  0.990089  0.989538\n",
            "1                  SVM  0.994432  0.994116\n",
            "2              XGBoost  0.998218  0.998118\n"
          ]
        }
      ]
    }
  ]
}