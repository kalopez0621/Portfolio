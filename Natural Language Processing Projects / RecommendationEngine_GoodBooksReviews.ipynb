{
  "nbformat": 4,
  "nbformat_minor": 0,
  "metadata": {
    "colab": {
      "provenance": [],
      "authorship_tag": "ABX9TyNxXYtmoGDl6QhBqBuVj85z",
      "include_colab_link": true
    },
    "kernelspec": {
      "name": "python3",
      "display_name": "Python 3"
    },
    "language_info": {
      "name": "python"
    }
  },
  "cells": [
    {
      "cell_type": "markdown",
      "metadata": {
        "id": "view-in-github",
        "colab_type": "text"
      },
      "source": [
        "<a href=\"https://colab.research.google.com/github/kalopez0621/Portfolio/blob/main/Natural%20Language%20Processing%20Projects%20/%20RecommendationEngine_GoodBooksReviews.ipynb\" target=\"_parent\"><img src=\"https://colab.research.google.com/assets/colab-badge.svg\" alt=\"Open In Colab\"/></a>"
      ]
    },
    {
      "cell_type": "markdown",
      "source": [
        "# Step 1: Setting Up the Environment"
      ],
      "metadata": {
        "id": "5LWCY5WqZdFq"
      }
    },
    {
      "cell_type": "code",
      "source": [
        "# Import necessary libraries\n",
        "import pandas as pd\n",
        "import numpy as np\n",
        "from gensim.models import Word2Vec\n",
        "from sklearn.metrics.pairwise import cosine_similarity\n",
        "from sklearn.decomposition import PCA\n",
        "import matplotlib.pyplot as plt\n",
        "import nltk\n",
        "from nltk.corpus import words, stopwords\n",
        "from nltk.tokenize import word_tokenize\n",
        "from nltk.stem import WordNetLemmatizer\n",
        "\n",
        "# Download NLTK resources\n",
        "nltk.download('punkt')\n",
        "nltk.download('stopwords')\n",
        "nltk.download('wordnet')\n",
        "nltk.download('words')"
      ],
      "metadata": {
        "colab": {
          "base_uri": "https://localhost:8080/"
        },
        "id": "Cj2Aib8kZVeV",
        "outputId": "60c2fb15-d581-4c55-f852-73926cb36e6a"
      },
      "execution_count": null,
      "outputs": [
        {
          "output_type": "stream",
          "name": "stderr",
          "text": [
            "[nltk_data] Downloading package punkt to /root/nltk_data...\n",
            "[nltk_data]   Package punkt is already up-to-date!\n",
            "[nltk_data] Downloading package stopwords to /root/nltk_data...\n",
            "[nltk_data]   Package stopwords is already up-to-date!\n",
            "[nltk_data] Downloading package wordnet to /root/nltk_data...\n",
            "[nltk_data]   Package wordnet is already up-to-date!\n",
            "[nltk_data] Downloading package words to /root/nltk_data...\n",
            "[nltk_data]   Package words is already up-to-date!\n"
          ]
        },
        {
          "output_type": "execute_result",
          "data": {
            "text/plain": [
              "True"
            ]
          },
          "metadata": {},
          "execution_count": 1
        }
      ]
    },
    {
      "cell_type": "code",
      "execution_count": null,
      "metadata": {
        "colab": {
          "base_uri": "https://localhost:8080/"
        },
        "id": "JZfChJNGvYaM",
        "outputId": "a51d4785-4f73-4082-8aaa-470477f05f15"
      },
      "outputs": [
        {
          "output_type": "stream",
          "name": "stdout",
          "text": [
            "Books Data:    book_id  goodreads_book_id  best_book_id  work_id  books_count       isbn  \\\n",
            "0        1            2767052       2767052  2792775          272  439023483   \n",
            "1        2                  3             3  4640799          491  439554934   \n",
            "2        3              41865         41865  3212258          226  316015849   \n",
            "3        4               2657          2657  3275794          487   61120081   \n",
            "4        5               4671          4671   245494         1356  743273567   \n",
            "\n",
            "         isbn13                      authors  original_publication_year  \\\n",
            "0  9.780439e+12              Suzanne Collins                     2008.0   \n",
            "1  9.780440e+12  J.K. Rowling, Mary GrandPré                     1997.0   \n",
            "2  9.780316e+12              Stephenie Meyer                     2005.0   \n",
            "3  9.780061e+12                   Harper Lee                     1960.0   \n",
            "4  9.780743e+12          F. Scott Fitzgerald                     1925.0   \n",
            "\n",
            "                             original_title  ... ratings_count  \\\n",
            "0                          The Hunger Games  ...       4780653   \n",
            "1  Harry Potter and the Philosopher's Stone  ...       4602479   \n",
            "2                                  Twilight  ...       3866839   \n",
            "3                     To Kill a Mockingbird  ...       3198671   \n",
            "4                          The Great Gatsby  ...       2683664   \n",
            "\n",
            "  work_ratings_count  work_text_reviews_count  ratings_1  ratings_2  \\\n",
            "0            4942365                   155254      66715     127936   \n",
            "1            4800065                    75867      75504     101676   \n",
            "2            3916824                    95009     456191     436802   \n",
            "3            3340896                    72586      60427     117415   \n",
            "4            2773745                    51992      86236     197621   \n",
            "\n",
            "   ratings_3  ratings_4  ratings_5  \\\n",
            "0     560092    1481305    2706317   \n",
            "1     455024    1156318    3011543   \n",
            "2     793319     875073    1355439   \n",
            "3     446835    1001952    1714267   \n",
            "4     606158     936012     947718   \n",
            "\n",
            "                                           image_url  \\\n",
            "0  https://images.gr-assets.com/books/1447303603m...   \n",
            "1  https://images.gr-assets.com/books/1474154022m...   \n",
            "2  https://images.gr-assets.com/books/1361039443m...   \n",
            "3  https://images.gr-assets.com/books/1361975680m...   \n",
            "4  https://images.gr-assets.com/books/1490528560m...   \n",
            "\n",
            "                                     small_image_url  \n",
            "0  https://images.gr-assets.com/books/1447303603s...  \n",
            "1  https://images.gr-assets.com/books/1474154022s...  \n",
            "2  https://images.gr-assets.com/books/1361039443s...  \n",
            "3  https://images.gr-assets.com/books/1361975680s...  \n",
            "4  https://images.gr-assets.com/books/1490528560s...  \n",
            "\n",
            "[5 rows x 23 columns]\n",
            "Book Tags Data:    goodreads_book_id  tag_id   count\n",
            "0                  1   30574  167697\n",
            "1                  1   11305   37174\n",
            "2                  1   11557   34173\n",
            "3                  1    8717   12986\n",
            "4                  1   33114   12716\n",
            "Tags Data:    tag_id tag_name\n",
            "0       0        -\n",
            "1       1     --1-\n",
            "2       2    --10-\n",
            "3       3    --12-\n",
            "4       4   --122-\n",
            "Ratings Data:    user_id  book_id  rating\n",
            "0        1      258       5\n",
            "1        2     4081       4\n",
            "2        2      260       5\n",
            "3        2     9296       5\n",
            "4        2     2318       3\n"
          ]
        }
      ],
      "source": [
        "# URLs for each dataset\n",
        "books_url = \"https://raw.githubusercontent.com/zygmuntz/goodbooks-10k/refs/heads/master/books.csv\"\n",
        "book_tags_url = \"https://raw.githubusercontent.com/zygmuntz/goodbooks-10k/refs/heads/master/book_tags.csv\"\n",
        "tags_url = \"https://raw.githubusercontent.com/zygmuntz/goodbooks-10k/refs/heads/master/tags.csv\"\n",
        "ratings_url = \"https://raw.githubusercontent.com/zygmuntz/goodbooks-10k/refs/heads/master/ratings.csv\"\n",
        "\n",
        "# Load datasets\n",
        "books_df = pd.read_csv(books_url)\n",
        "book_tags_df = pd.read_csv(book_tags_url)\n",
        "tags_df = pd.read_csv(tags_url)\n",
        "ratings_df = pd.read_csv(ratings_url)\n",
        "\n",
        "# Display loaded data for verification\n",
        "print(\"Books Data:\", books_df.head())\n",
        "print(\"Book Tags Data:\", book_tags_df.head())\n",
        "print(\"Tags Data:\", tags_df.head())\n",
        "print(\"Ratings Data:\", ratings_df.head())"
      ]
    },
    {
      "cell_type": "markdown",
      "source": [
        "# Step 2: Exploring and Preprocessing the Dataset"
      ],
      "metadata": {
        "id": "N3_Qpydf4__o"
      }
    },
    {
      "cell_type": "markdown",
      "source": [
        "Generate Enriched Book Descriptions"
      ],
      "metadata": {
        "id": "Vm6CH_5iTqZ-"
      }
    },
    {
      "cell_type": "code",
      "source": [
        "# Merge `book_tags_df` with `tags_df` to get tag names\n",
        "book_tags_df = book_tags_df.merge(tags_df, on='tag_id', how='left')\n",
        "\n",
        "# Select top tags for each book and combine them\n",
        "top_tags_df = (\n",
        "    book_tags_df.sort_values(by=['goodreads_book_id', 'count'], ascending=[True, False])\n",
        "    .groupby('goodreads_book_id')\n",
        "    .head(5)\n",
        "    .groupby('goodreads_book_id')['tag_name']\n",
        "    .apply(lambda tags: ' '.join(tags))\n",
        "    .reset_index()\n",
        ")\n",
        "\n",
        "# Merge top tags with book information\n",
        "books_with_tags_df = books_df.merge(top_tags_df, left_on='goodreads_book_id', right_on='goodreads_book_id', how='left')\n",
        "books_with_tags_df['tag_name'] = books_with_tags_df['tag_name'].fillna('')\n",
        "\n",
        "# Combine title, authors, and tags into a single description field\n",
        "books_with_tags_df['description_enriched'] = (\n",
        "    books_with_tags_df['title'] + ' ' + books_with_tags_df['authors'] + ' ' + books_with_tags_df['tag_name']\n",
        ")\n",
        "\n",
        "# Handle missing values in 'description_enriched'\n",
        "books_with_tags_df['description_enriched'] = books_with_tags_df['description_enriched'].fillna('')\n"
      ],
      "metadata": {
        "id": "nE5_ow-KTUlg"
      },
      "execution_count": null,
      "outputs": []
    },
    {
      "cell_type": "markdown",
      "source": [
        "Integrate Average Ratings"
      ],
      "metadata": {
        "id": "agr1v2rWUJDO"
      }
    },
    {
      "cell_type": "code",
      "source": [
        "# Step 3: Integrate Average Ratings\n",
        "\n",
        "# Calculate average rating and ratings count for each book\n",
        "ratings_summary = (\n",
        "    ratings_df.groupby('book_id')['rating']\n",
        "    .agg(average_rating='mean', ratings_count='count')\n",
        "    .reset_index()\n",
        ")\n",
        "\n",
        "# Drop any existing average_rating and ratings_count columns in books_with_tags_df\n",
        "books_with_tags_df = books_with_tags_df.drop(columns=['average_rating_x', 'ratings_count_x', 'average_rating_y', 'ratings_count_y', 'average_rating', 'ratings_count'], errors='ignore')\n",
        "\n",
        "# Display columns in books_with_tags_df before merge to confirm removal\n",
        "print(\"Columns in books_with_tags_df after dropping duplicates:\", books_with_tags_df.columns)\n",
        "\n",
        "# Merge the average ratings and counts from ratings_summary into books_with_tags_df\n",
        "books_with_tags_df = books_with_tags_df.merge(ratings_summary, on='book_id', how='left')\n",
        "\n",
        "# Fill NaN ratings and counts if any books have no ratings\n",
        "books_with_tags_df['average_rating'] = books_with_tags_df['average_rating'].fillna(0)\n",
        "books_with_tags_df['ratings_count'] = books_with_tags_df['ratings_count'].fillna(0).astype(int)\n",
        "\n",
        "# Display columns after merging to confirm everything is correct\n",
        "print(\"Columns after merge:\", books_with_tags_df.columns)\n",
        "\n",
        "# Display sample data to verify\n",
        "print(\"\\nSample data:\\n\", books_with_tags_df[['title', 'authors', 'average_rating', 'ratings_count']].head())\n"
      ],
      "metadata": {
        "colab": {
          "base_uri": "https://localhost:8080/"
        },
        "id": "Wi2GM9dLUEB-",
        "outputId": "ee6d99d3-3b43-4da1-bb4c-539dd0670e2a"
      },
      "execution_count": null,
      "outputs": [
        {
          "output_type": "stream",
          "name": "stdout",
          "text": [
            "Columns in books_with_tags_df after dropping duplicates: Index(['book_id', 'goodreads_book_id', 'best_book_id', 'work_id',\n",
            "       'books_count', 'isbn', 'isbn13', 'authors', 'original_publication_year',\n",
            "       'original_title', 'title', 'language_code', 'work_ratings_count',\n",
            "       'work_text_reviews_count', 'ratings_1', 'ratings_2', 'ratings_3',\n",
            "       'ratings_4', 'ratings_5', 'image_url', 'small_image_url', 'tag_name',\n",
            "       'description_enriched'],\n",
            "      dtype='object')\n",
            "Columns after merge: Index(['book_id', 'goodreads_book_id', 'best_book_id', 'work_id',\n",
            "       'books_count', 'isbn', 'isbn13', 'authors', 'original_publication_year',\n",
            "       'original_title', 'title', 'language_code', 'work_ratings_count',\n",
            "       'work_text_reviews_count', 'ratings_1', 'ratings_2', 'ratings_3',\n",
            "       'ratings_4', 'ratings_5', 'image_url', 'small_image_url', 'tag_name',\n",
            "       'description_enriched', 'average_rating', 'ratings_count'],\n",
            "      dtype='object')\n",
            "\n",
            "Sample data:\n",
            "                                                title  \\\n",
            "0            The Hunger Games (The Hunger Games, #1)   \n",
            "1  Harry Potter and the Sorcerer's Stone (Harry P...   \n",
            "2                            Twilight (Twilight, #1)   \n",
            "3                              To Kill a Mockingbird   \n",
            "4                                   The Great Gatsby   \n",
            "\n",
            "                       authors  average_rating  ratings_count  \n",
            "0              Suzanne Collins        4.279707          22806  \n",
            "1  J.K. Rowling, Mary GrandPré        4.351350          21850  \n",
            "2              Stephenie Meyer        3.214341          16931  \n",
            "3                   Harper Lee        4.329369          19088  \n",
            "4          F. Scott Fitzgerald        3.772224          16604  \n"
          ]
        }
      ]
    },
    {
      "cell_type": "code",
      "source": [
        "# Fill missing values in 'description_enriched' with an empty string\n",
        "books_with_tags_df['description_enriched'] = books_with_tags_df['description_enriched'].fillna('')\n",
        "\n",
        "# Display the first 5 rows of the 'description_enriched' column\n",
        "print(books_with_tags_df['description_enriched'].head())\n"
      ],
      "metadata": {
        "colab": {
          "base_uri": "https://localhost:8080/"
        },
        "id": "q9_O_459Xjct",
        "outputId": "72fbbbe4-3bb0-4edc-ea2c-760cd88ed943"
      },
      "execution_count": null,
      "outputs": [
        {
          "output_type": "stream",
          "name": "stdout",
          "text": [
            "0    The Hunger Games (The Hunger Games, #1) Suzann...\n",
            "1    Harry Potter and the Sorcerer's Stone (Harry P...\n",
            "2    Twilight (Twilight, #1) Stephenie Meyer young-...\n",
            "3    To Kill a Mockingbird Harper Lee classics favo...\n",
            "4    The Great Gatsby F. Scott Fitzgerald classics ...\n",
            "Name: description_enriched, dtype: object\n"
          ]
        }
      ]
    },
    {
      "cell_type": "markdown",
      "source": [
        "# Step 3: Text Preprocessing and Tokenization"
      ],
      "metadata": {
        "id": "0Zl3KtNG530z"
      }
    },
    {
      "cell_type": "code",
      "source": [
        "# Download necessary NLTK data files\n",
        "nltk.download('words')\n",
        "\n",
        "# Set of English words for filtering\n",
        "english_words = set(words.words())\n",
        "\n",
        "# Display the first 5 rows of the 'description_enriched' column\n",
        "print(books_with_tags_df['description_enriched'].head())"
      ],
      "metadata": {
        "colab": {
          "base_uri": "https://localhost:8080/"
        },
        "id": "1gwv8aWO5V9W",
        "outputId": "a4879601-f71c-4fbc-e953-d6e0034ca7f7"
      },
      "execution_count": null,
      "outputs": [
        {
          "output_type": "stream",
          "name": "stdout",
          "text": [
            "0    The Hunger Games (The Hunger Games, #1) Suzann...\n",
            "1    Harry Potter and the Sorcerer's Stone (Harry P...\n",
            "2    Twilight (Twilight, #1) Stephenie Meyer young-...\n",
            "3    To Kill a Mockingbird Harper Lee classics favo...\n",
            "4    The Great Gatsby F. Scott Fitzgerald classics ...\n",
            "Name: description_enriched, dtype: object\n"
          ]
        },
        {
          "output_type": "stream",
          "name": "stderr",
          "text": [
            "[nltk_data] Downloading package words to /root/nltk_data...\n",
            "[nltk_data]   Package words is already up-to-date!\n"
          ]
        }
      ]
    },
    {
      "cell_type": "code",
      "source": [
        "# Define the text preprocessing function\n",
        "def preprocess_text(text):\n",
        "    # Convert to string if it's not already\n",
        "    if not isinstance(text, str):\n",
        "        text = str(text)\n",
        "\n",
        "    # Lowercase the text\n",
        "    text = text.lower()\n",
        "\n",
        "    # Tokenize the text\n",
        "    tokens = word_tokenize(text)\n",
        "\n",
        "    # Remove stopwords, non-alphanumeric tokens, numerical tokens, and very short tokens\n",
        "    stop_words = set(stopwords.words('english'))\n",
        "\n",
        "    # Lemmatize the tokens\n",
        "    lemmatizer = WordNetLemmatizer()\n",
        "    tokens = [lemmatizer.lemmatize(word) for word in tokens if word.isalnum() and word not in stop_words and len(word) > 2 and word in english_words]\n",
        "\n",
        "    return tokens\n",
        "\n",
        "# Re-apply the updated preprocessing to the 'description_enriched' column\n",
        "books_with_tags_df['tokenized_description'] = books_with_tags_df['description_enriched'].apply(preprocess_text)\n",
        "\n",
        "# Display the first 5 rows of the 'tokenized_description' column after preprocessing\n",
        "print(books_with_tags_df[['title', 'tokenized_description']].head())"
      ],
      "metadata": {
        "colab": {
          "base_uri": "https://localhost:8080/"
        },
        "id": "-w4_PUMs5a95",
        "outputId": "6df8b51a-6196-4b3d-b136-fb6c3d4e4b40"
      },
      "execution_count": null,
      "outputs": [
        {
          "output_type": "stream",
          "name": "stdout",
          "text": [
            "                                               title  \\\n",
            "0            The Hunger Games (The Hunger Games, #1)   \n",
            "1  Harry Potter and the Sorcerer's Stone (Harry P...   \n",
            "2                            Twilight (Twilight, #1)   \n",
            "3                              To Kill a Mockingbird   \n",
            "4                                   The Great Gatsby   \n",
            "\n",
            "                               tokenized_description  \n",
            "0                 [hunger, hunger, collins, fiction]  \n",
            "1  [harry, potter, sorcerer, stone, harry, potter...  \n",
            "2                      [twilight, twilight, fantasy]  \n",
            "3          [kill, mockingbird, harper, lee, classic]  \n",
            "4                          [great, fiction, classic]  \n"
          ]
        }
      ]
    },
    {
      "cell_type": "markdown",
      "source": [
        "# Step 4: Building the Word2Vec Model"
      ],
      "metadata": {
        "id": "I-Xvmu3J6IDR"
      }
    },
    {
      "cell_type": "code",
      "source": [
        "# Create the Word2Vec model using the tokenized descriptions\n",
        "model = Word2Vec(sentences=books_with_tags_df['tokenized_description'], vector_size=100, window=5, min_count=1, workers=4)\n",
        "\n",
        "# Display vocabulary size\n",
        "print(f\"Vocabulary size: {len(model.wv.index_to_key)}\")\n",
        "\n",
        "# Display sample embeddings\n",
        "sample_words = model.wv.index_to_key[:10]\n",
        "sample_embeddings = [model.wv[word] for word in sample_words]\n",
        "embeddings_df = pd.DataFrame(sample_embeddings, index=sample_words)\n",
        "print(\"Sample Word Embeddings:\\n\", embeddings_df)\n"
      ],
      "metadata": {
        "colab": {
          "base_uri": "https://localhost:8080/"
        },
        "id": "3edMwmTE6QDT",
        "outputId": "31c2e605-2814-4d70-fd09-ebbc3ee6f433"
      },
      "execution_count": null,
      "outputs": [
        {
          "output_type": "stream",
          "name": "stdout",
          "text": [
            "Vocabulary size: 5585\n",
            "Sample Word Embeddings:\n",
            "                     0         1         2         3         4         5   \\\n",
            "fiction      -0.273902  0.449122  0.185563  0.235390  0.053846 -0.923867   \n",
            "fantasy      -0.294170  0.450517  0.189512  0.240888  0.073636 -0.958345   \n",
            "romance      -0.244223  0.390401  0.144208  0.202528  0.067908 -0.808402   \n",
            "mystery      -0.226775  0.360116  0.145496  0.166037  0.062979 -0.699511   \n",
            "thriller     -0.171478  0.271571  0.103670  0.130149  0.051065 -0.520633   \n",
            "nonfiction   -0.312293  0.483750  0.164770  0.233181  0.047017 -1.014399   \n",
            "paranormal   -0.182185  0.289084  0.117919  0.161475  0.038007 -0.642088   \n",
            "horror       -0.180628  0.297966  0.133761  0.163677  0.036942 -0.640103   \n",
            "contemporary -0.206938  0.317110  0.122380  0.173525  0.053501 -0.637567   \n",
            "history      -0.254042  0.392207  0.130765  0.220552  0.047642 -0.866800   \n",
            "\n",
            "                    6         7         8         9   ...        90        91  \\\n",
            "fiction       0.171649  1.089710 -0.613671 -0.582408  ...  0.474154  0.230798   \n",
            "fantasy       0.168785  1.111963 -0.625566 -0.601574  ...  0.490696  0.246110   \n",
            "romance       0.138634  0.958676 -0.546102 -0.496815  ...  0.413935  0.218466   \n",
            "mystery       0.130817  0.823465 -0.453103 -0.450758  ...  0.346764  0.175595   \n",
            "thriller      0.101611  0.629369 -0.357116 -0.331191  ...  0.283868  0.127209   \n",
            "nonfiction    0.172589  1.168602 -0.665053 -0.646503  ...  0.535244  0.291314   \n",
            "paranormal    0.124132  0.751088 -0.423996 -0.398994  ...  0.321833  0.165674   \n",
            "horror        0.116345  0.738664 -0.423125 -0.410382  ...  0.332356  0.158837   \n",
            "contemporary  0.132054  0.748853 -0.436305 -0.394255  ...  0.325486  0.167632   \n",
            "history       0.136036  0.989261 -0.558585 -0.539038  ...  0.429346  0.247687   \n",
            "\n",
            "                    92        93        94        95        96        97  \\\n",
            "fiction       0.230719  0.008373  1.080564  0.901897  0.142113 -0.322261   \n",
            "fantasy       0.235135  0.006986  1.096706  0.932693  0.152286 -0.315923   \n",
            "romance       0.217423  0.007459  0.960356  0.800189  0.137162 -0.267534   \n",
            "mystery       0.169912  0.002607  0.823475  0.677836  0.110715 -0.241373   \n",
            "thriller      0.142232 -0.009156  0.618045  0.512657  0.095468 -0.180074   \n",
            "nonfiction    0.226849  0.003634  1.179527  0.964971  0.144086 -0.347427   \n",
            "paranormal    0.157914  0.015962  0.745862  0.628752  0.114569 -0.220233   \n",
            "horror        0.144610  0.022322  0.735313  0.623925  0.099853 -0.216598   \n",
            "contemporary  0.164263  0.006457  0.758450  0.633944  0.105882 -0.205186   \n",
            "history       0.203515  0.019972  1.001848  0.797340  0.106056 -0.268805   \n",
            "\n",
            "                    98        99  \n",
            "fiction       0.352726 -0.011680  \n",
            "fantasy       0.345107 -0.016862  \n",
            "romance       0.327380 -0.025649  \n",
            "mystery       0.254966 -0.024228  \n",
            "thriller      0.199028 -0.002738  \n",
            "nonfiction    0.391578 -0.025174  \n",
            "paranormal    0.250728 -0.010197  \n",
            "horror        0.241110 -0.015086  \n",
            "contemporary  0.256989 -0.023775  \n",
            "history       0.342209 -0.013786  \n",
            "\n",
            "[10 rows x 100 columns]\n"
          ]
        }
      ]
    },
    {
      "cell_type": "markdown",
      "source": [
        "# Step 5: Generating Product Embeddings"
      ],
      "metadata": {
        "id": "wksmikWC7B3F"
      }
    },
    {
      "cell_type": "code",
      "source": [
        "# Function to generate book embeddings\n",
        "def get_book_embedding(tokenized_text, model, embedding_size=100):\n",
        "    valid_embeddings = [model.wv[word] for word in tokenized_text if word in model.wv]\n",
        "    return np.mean(valid_embeddings, axis=0) if valid_embeddings else np.zeros(embedding_size)\n",
        "\n",
        "# Apply to generate embeddings\n",
        "books_with_tags_df['book_embedding'] = books_with_tags_df['tokenized_description'].apply(\n",
        "    lambda x: get_book_embedding(x, model, embedding_size=model.vector_size)\n",
        ")\n"
      ],
      "metadata": {
        "id": "d9s_xYKc09PP"
      },
      "execution_count": null,
      "outputs": []
    },
    {
      "cell_type": "markdown",
      "source": [
        "Visualizing Word Embeddings using PCA"
      ],
      "metadata": {
        "id": "JRJvw3QB7vS-"
      }
    },
    {
      "cell_type": "code",
      "source": [
        "# Select 30 frequent words from the vocabulary\n",
        "words = list(model.wv.index_to_key)[:30]\n",
        "\n",
        "# Get the word embeddings for these words\n",
        "word_vectors = [model.wv[word] for word in words]\n",
        "\n",
        "# Use PCA to reduce the word vectors to 2 dimensions\n",
        "pca = PCA(n_components=2)\n",
        "word_vectors_pca = pca.fit_transform(word_vectors)\n",
        "\n",
        "# Create a scatter plot\n",
        "plt.figure(figsize=(10, 8))\n",
        "plt.scatter(word_vectors_pca[:, 0], word_vectors_pca[:, 1], c='blue')\n",
        "\n",
        "# Annotate each point with the word\n",
        "for i, word in enumerate(words):\n",
        "    plt.annotate(word, xy=(word_vectors_pca[i, 0], word_vectors_pca[i, 1]))\n",
        "\n",
        "# Display the plot\n",
        "plt.title(\"Word Embeddings Visualization using PCA\")\n",
        "plt.xlabel(\"Principal Component 1\")\n",
        "plt.ylabel(\"Principal Component 2\")\n",
        "plt.grid()\n",
        "plt.show()"
      ],
      "metadata": {
        "colab": {
          "base_uri": "https://localhost:8080/",
          "height": 718
        },
        "id": "J3mEGkpP7zAz",
        "outputId": "894ad12c-4d64-40e3-b856-dcd7216b85a6"
      },
      "execution_count": null,
      "outputs": [
        {
          "output_type": "display_data",
          "data": {
            "text/plain": [
              "<Figure size 1000x800 with 1 Axes>"
            ],
            "image/png": "[encoded data removed]"
          },
          "metadata": {}
        }
      ]
    },
    {
      "cell_type": "markdown",
      "source": [
        "# Step 6: Calculating Cosine Similarity"
      ],
      "metadata": {
        "id": "rDUzHCDi8FK1"
      }
    },
    {
      "cell_type": "code",
      "source": [
        "# Stack the book embeddings into a matrix\n",
        "embeddings_matrix = np.vstack(books_with_tags_df['book_embedding'].values)\n",
        "\n",
        "# Calculate cosine similarity between the book embeddings\n",
        "cosine_sim = cosine_similarity(embeddings_matrix)\n",
        "\n",
        "# Display the shape of the similarity matrix\n",
        "print(f\"Cosine similarity matrix shape: {cosine_sim.shape}\")"
      ],
      "metadata": {
        "colab": {
          "base_uri": "https://localhost:8080/"
        },
        "id": "M7G6noWIxSIz",
        "outputId": "929300c1-600f-4f5a-f5f3-454bc46b87d0"
      },
      "execution_count": null,
      "outputs": [
        {
          "output_type": "stream",
          "name": "stdout",
          "text": [
            "Cosine similarity matrix shape: (10000, 10000)\n"
          ]
        }
      ]
    },
    {
      "cell_type": "markdown",
      "source": [
        "# Step 7: Building the Recommender System"
      ],
      "metadata": {
        "id": "2Metr1yl-FKK"
      }
    },
    {
      "cell_type": "code",
      "source": [
        "# Create a mapping from book titles to indices\n",
        "book_indices = pd.Series(books_with_tags_df.index, index=books_with_tags_df['title']).drop_duplicates()\n",
        "\n",
        "# Function to recommend books based on cosine similarity\n",
        "def recommend_books(title, cosine_sim=cosine_sim, df=books_with_tags_df, book_indices=book_indices, num_recommendations=10):\n",
        "    # Get the index of the book that matches the title\n",
        "    if title not in book_indices:\n",
        "        print(f\"Book '{title}' not found in the dataset.\")\n",
        "        return []\n",
        "\n",
        "    idx = book_indices[title]\n",
        "\n",
        "    # Get the pairwise similarity scores of all books with the chosen book\n",
        "    sim_scores = list(enumerate(cosine_sim[idx]))\n",
        "\n",
        "    # Sort the books based on similarity scores in descending order\n",
        "    sim_scores = sorted(sim_scores, key=lambda x: x[1], reverse=True)\n",
        "\n",
        "    # Get the indices of the top 'num_recommendations' most similar books\n",
        "    sim_scores = sim_scores[1:num_recommendations + 1]  # Exclude the book itself\n",
        "\n",
        "    # Get the book indices\n",
        "    book_indices = [i[0] for i in sim_scores]\n",
        "\n",
        "    # Return the top 'num_recommendations' most similar books\n",
        "    return df[['title', 'authors', 'average_rating', 'ratings_count']].iloc[book_indices]\n",
        "\n",
        "# Example: Recommend books similar to \"The Hunger Games (The Hunger Games, #1)\"\n",
        "recommended_books = recommend_books(\"The Hunger Games (The Hunger Games, #1)\")\n",
        "print(\"Recommended Books:\\n\", recommended_books)\n"
      ],
      "metadata": {
        "colab": {
          "base_uri": "https://localhost:8080/"
        },
        "id": "at6ItBRwyE8l",
        "outputId": "a6f23ccf-567b-4b73-ccfb-449960502216"
      },
      "execution_count": null,
      "outputs": [
        {
          "output_type": "stream",
          "name": "stdout",
          "text": [
            "Recommended Books:\n",
            "                                                   title  \\\n",
            "19                    Mockingjay (The Hunger Games, #3)   \n",
            "506   The Hunger Games Trilogy Boxset (The Hunger Ga...   \n",
            "2934  Gregor and the Code of Claw (Underland Chronic...   \n",
            "412                                The Three Musketeers   \n",
            "1111      Anne of the Island (Anne of Green Gables, #3)   \n",
            "2795                                      The Lost Wife   \n",
            "1530   Gregor the Overlander (Underland Chronicles, #1)   \n",
            "2418                           Of Love and Other Demons   \n",
            "3633                                     Love Walked In   \n",
            "4057                                       Love Anthony   \n",
            "\n",
            "                     authors  average_rating  ratings_count  \n",
            "19           Suzanne Collins        3.853131          15953  \n",
            "506          Suzanne Collins        4.371503           1144  \n",
            "2934         Suzanne Collins        4.172603            365  \n",
            "412          Alexandre Dumas        3.994121           3062  \n",
            "1111         L.M. Montgomery        4.165426           1209  \n",
            "2795          Alyson Richman        4.112941            425  \n",
            "1530         Suzanne Collins        3.904639            776  \n",
            "2418  Gabriel García Márquez        3.922222            450  \n",
            "3633    Marisa de los Santos        3.592326            417  \n",
            "4057             Lisa Genova        3.787879            330  \n"
          ]
        }
      ]
    },
    {
      "cell_type": "markdown",
      "source": [
        "Make more visually appealing"
      ],
      "metadata": {
        "id": "_HxQhExN1eWf"
      }
    },
    {
      "cell_type": "code",
      "source": [
        "def recommend_books(title, cosine_sim=cosine_sim, df=books_with_tags_df, book_indices=book_indices, num_recommendations=10):\n",
        "    # Check if the title exists in the dataset\n",
        "    if title not in book_indices:\n",
        "        print(f\"Book '{title}' not found in the dataset.\")\n",
        "        return []\n",
        "\n",
        "    # Get the index of the selected book\n",
        "    idx = book_indices[title]\n",
        "\n",
        "    # Get the pairwise similarity scores of all books with the selected book\n",
        "    sim_scores = list(enumerate(cosine_sim[idx]))\n",
        "\n",
        "    # Sort the books based on similarity scores in descending order\n",
        "    sim_scores = sorted(sim_scores, key=lambda x: x[1], reverse=True)\n",
        "\n",
        "    # Get the indices of the top `num_recommendations` most similar books (excluding the book itself)\n",
        "    sim_scores = sim_scores[1:num_recommendations + 1]\n",
        "    book_indices = [i[0] for i in sim_scores]\n",
        "\n",
        "    # Fetch the details of the recommended books\n",
        "    recommendations = df[['title', 'authors', 'average_rating', 'ratings_count']].iloc[book_indices]\n",
        "\n",
        "    # Display the selected book and its recommendations in a visually appealing way\n",
        "    print(f\"\\nBooks similar to '{title}':\\n\")\n",
        "    print(f\"{'Title':<60} {'Author':<30} {'Avg Rating':<10} {'Ratings Count'}\")\n",
        "    print(\"=\" * 100)\n",
        "    for i, row in recommendations.iterrows():\n",
        "        print(f\"{row['title']:<60} {row['authors']:<30} {row['average_rating']:<10.2f} {row['ratings_count']}\")\n",
        "    print(\"=\" * 100)\n",
        "\n",
        "# Example: Get recommendations for a specific book title\n",
        "recommend_books(\"The Hunger Games (The Hunger Games, #1)\")\n"
      ],
      "metadata": {
        "colab": {
          "base_uri": "https://localhost:8080/"
        },
        "id": "r6dT1jSBy4Kh",
        "outputId": "2eeee4b4-a103-410e-9485-f6ea9e085875"
      },
      "execution_count": null,
      "outputs": [
        {
          "output_type": "stream",
          "name": "stdout",
          "text": [
            "\n",
            "Books similar to 'The Hunger Games (The Hunger Games, #1)':\n",
            "\n",
            "Title                                                        Author                         Avg Rating Ratings Count\n",
            "====================================================================================================\n",
            "Mockingjay (The Hunger Games, #3)                            Suzanne Collins                3.85       15953\n",
            "The Hunger Games Trilogy Boxset (The Hunger Games, #1-3)     Suzanne Collins                4.37       1144\n",
            "Gregor and the Code of Claw (Underland Chronicles, #5)       Suzanne Collins                4.17       365\n",
            "The Three Musketeers                                         Alexandre Dumas                3.99       3062\n",
            "Anne of the Island (Anne of Green Gables, #3)                L.M. Montgomery                4.17       1209\n",
            "The Lost Wife                                                Alyson Richman                 4.11       425\n",
            "Gregor the Overlander (Underland Chronicles, #1)             Suzanne Collins                3.90       776\n",
            "Of Love and Other Demons                                     Gabriel García Márquez         3.92       450\n",
            "Love Walked In                                               Marisa de los Santos           3.59       417\n",
            "Love Anthony                                                 Lisa Genova                    3.79       330\n",
            "====================================================================================================\n"
          ]
        }
      ]
    }
  ]
}